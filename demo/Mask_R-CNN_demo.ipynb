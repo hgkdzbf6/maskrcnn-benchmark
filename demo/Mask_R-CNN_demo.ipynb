{
 "cells": [
  {
   "cell_type": "markdown",
   "metadata": {},
   "source": [
    "# Mask R-CNN demo\n",
    "\n",
    "This notebook illustrates one possible way of using `maskrcnn_benchmark` for computing predictions on images from an arbitrary URL.\n",
    "\n",
    "Let's start with a few standard imports"
   ]
  },
  {
   "cell_type": "code",
   "execution_count": 1,
   "metadata": {},
   "outputs": [],
   "source": [
    "import matplotlib.pyplot as plt\n",
    "import matplotlib.pylab as pylab\n",
    "\n",
    "import requests\n",
    "from io import BytesIO\n",
    "from PIL import Image\n",
    "import numpy as np"
   ]
  },
  {
   "cell_type": "code",
   "execution_count": 2,
   "metadata": {},
   "outputs": [],
   "source": [
    "# this makes our figures bigger\n",
    "pylab.rcParams['figure.figsize'] = 20, 12"
   ]
  },
  {
   "cell_type": "markdown",
   "metadata": {},
   "source": [
    "Those are the relevant imports for the detection model"
   ]
  },
  {
   "cell_type": "code",
   "execution_count": 10,
   "metadata": {
    "scrolled": false
   },
   "outputs": [
    {
     "name": "stdout",
     "output_type": "stream",
     "text": [
      "Requirement already satisfied: yacs in /home/zbf/anaconda3/lib/python3.7/site-packages (0.1.6)\n",
      "Requirement already satisfied: PyYAML in /home/zbf/anaconda3/lib/python3.7/site-packages (from yacs) (5.1)\n",
      "Requirement already satisfied: opencv-python in /home/zbf/anaconda3/lib/python3.7/site-packages (4.1.0.25)\n",
      "Requirement already satisfied: numpy>=1.14.5 in /home/zbf/anaconda3/lib/python3.7/site-packages (from opencv-python) (1.16.2)\n",
      "Requirement already satisfied: torchvision==0.2.2.post3 in /home/zbf/anaconda3/lib/python3.7/site-packages (0.2.2.post3)\n",
      "Requirement already satisfied: torch in /home/zbf/anaconda3/lib/python3.7/site-packages (from torchvision==0.2.2.post3) (1.2.0.dev20190527)\n",
      "Requirement already satisfied: six in /home/zbf/anaconda3/lib/python3.7/site-packages (from torchvision==0.2.2.post3) (1.12.0)\n",
      "Requirement already satisfied: pillow>=4.1.1 in /home/zbf/anaconda3/lib/python3.7/site-packages (from torchvision==0.2.2.post3) (5.4.1)\n",
      "Requirement already satisfied: numpy in /home/zbf/anaconda3/lib/python3.7/site-packages (from torchvision==0.2.2.post3) (1.16.2)\n",
      "Collecting apex\n",
      "Collecting pyramid-mailer (from apex)\n",
      "  Using cached https://files.pythonhosted.org/packages/ea/c3/0ce593179a8da8e1ab7fe178b0ae096a046246bd44a5787f72940d6dd5b2/pyramid_mailer-0.15.1-py2.py3-none-any.whl\n",
      "Requirement already satisfied: requests in /home/zbf/anaconda3/lib/python3.7/site-packages (from apex) (2.21.0)\n",
      "Collecting wtforms (from apex)\n",
      "  Using cached https://files.pythonhosted.org/packages/9f/c8/dac5dce9908df1d9d48ec0e26e2a250839fa36ea2c602cc4f85ccfeb5c65/WTForms-2.2.1-py2.py3-none-any.whl\n",
      "Collecting pyramid>1.1.2 (from apex)\n",
      "  Using cached https://files.pythonhosted.org/packages/4e/4f/6fe39af43fadc6d6c12f4cff9ed438f4fed20245614170959b38fe9f762d/pyramid-1.10.4-py2.py3-none-any.whl\n",
      "Collecting velruse>=1.0.3 (from apex)\n",
      "Collecting wtforms-recaptcha (from apex)\n",
      "  Using cached https://files.pythonhosted.org/packages/5c/b0/42021ab061b768e3e5f430466219468c2afec99fe706e4340792d7a6fab4/wtforms_recaptcha-0.3.2-py2.py3-none-any.whl\n",
      "Collecting cryptacular (from apex)\n",
      "  Using cached https://files.pythonhosted.org/packages/73/bd/714b3fbfb3392d6b4e658638d9b74f77ce1072725209c08a6becd90836a7/cryptacular-1.4.1.tar.gz\n",
      "Collecting zope.sqlalchemy (from apex)\n",
      "  Using cached https://files.pythonhosted.org/packages/7a/a4/ea51b2bef85ee95b54ce84b15124aad061eb35e820f72b11e5e180dea8ca/zope.sqlalchemy-1.1-py2.py3-none-any.whl\n",
      "Collecting transaction (from pyramid-mailer->apex)\n",
      "  Using cached https://files.pythonhosted.org/packages/21/38/499bcc737411b00ea969fdc82e1ff56925a0ea634fe03173e18fbdd59015/transaction-2.4.0-py2.py3-none-any.whl\n",
      "Collecting repoze.sendmail>=4.1 (from pyramid-mailer->apex)\n",
      "  Using cached https://files.pythonhosted.org/packages/25/98/c5c64dc045b7c45858c391d04673a0f2748acef8e0eea4f2989b22220f97/repoze.sendmail-4.4.1-py2.py3-none-any.whl\n",
      "Requirement already satisfied: certifi>=2017.4.17 in /home/zbf/anaconda3/lib/python3.7/site-packages (from requests->apex) (2019.3.9)\n",
      "Requirement already satisfied: idna<2.9,>=2.5 in /home/zbf/anaconda3/lib/python3.7/site-packages (from requests->apex) (2.8)\n",
      "Requirement already satisfied: urllib3<1.25,>=1.21.1 in /home/zbf/anaconda3/lib/python3.7/site-packages (from requests->apex) (1.24.1)\n",
      "Requirement already satisfied: chardet<3.1.0,>=3.0.2 in /home/zbf/anaconda3/lib/python3.7/site-packages (from requests->apex) (3.0.4)\n",
      "Collecting plaster-pastedeploy (from pyramid>1.1.2->apex)\n",
      "  Using cached https://files.pythonhosted.org/packages/11/c4/0470056ea324c7a420c22647be512dec1b5e32b1b6e77e27c61838d2811c/plaster_pastedeploy-0.7-py2.py3-none-any.whl\n",
      "Collecting zope.interface>=3.8.0 (from pyramid>1.1.2->apex)\n",
      "  Using cached https://files.pythonhosted.org/packages/3a/b5/5cbafbe09bbfc242503b0cd9bcf9dee32458b3ca166f6a63cb7b4f465b60/zope.interface-4.6.0-cp37-cp37m-manylinux1_x86_64.whl\n",
      "Collecting venusian>=1.0 (from pyramid>1.1.2->apex)\n",
      "  Using cached https://files.pythonhosted.org/packages/21/80/8e2ac4aef69e927754277d29636b65eceb4767e9da90a2c3046c4176184a/venusian-1.2.0-py2.py3-none-any.whl\n",
      "Collecting webob>=1.8.3 (from pyramid>1.1.2->apex)\n",
      "  Using cached https://files.pythonhosted.org/packages/06/e1/4acd2b4327fceb4c6446bdbca515f807ab83188526fd654940c00bcf8cc3/WebOb-1.8.5-py2.py3-none-any.whl\n",
      "Collecting plaster (from pyramid>1.1.2->apex)\n",
      "  Using cached https://files.pythonhosted.org/packages/61/29/3ac8a5d03b2d9e6b876385066676472ba4acf93677acfc7360b035503d49/plaster-1.0-py2.py3-none-any.whl\n",
      "Requirement already satisfied: setuptools in /home/zbf/anaconda3/lib/python3.7/site-packages (from pyramid>1.1.2->apex) (40.8.0)\n",
      "Collecting hupper>=1.5 (from pyramid>1.1.2->apex)\n",
      "  Using cached https://files.pythonhosted.org/packages/b7/dd/807635115e7442e2487e8af7e5d58a080565b24e2ec4620ee31cfd65317f/hupper-1.6.1-py2.py3-none-any.whl\n",
      "Collecting translationstring>=0.4 (from pyramid>1.1.2->apex)\n",
      "  Using cached https://files.pythonhosted.org/packages/26/e7/9dcf5bcd32b3ad16db542845ad129c06927821ded434ae88f458e6190626/translationstring-1.3-py2.py3-none-any.whl\n",
      "Collecting zope.deprecation>=3.5.0 (from pyramid>1.1.2->apex)\n",
      "  Using cached https://files.pythonhosted.org/packages/f9/26/b935bbf9d27e898b87d80e7873a0200cebf239253d0afe7a59f82fe90fff/zope.deprecation-4.4.0-py2.py3-none-any.whl\n",
      "Collecting requests-oauthlib (from velruse>=1.0.3->apex)\n",
      "  Using cached https://files.pythonhosted.org/packages/c2/e2/9fd03d55ffb70fe51f587f20bcf407a6927eb121de86928b34d162f0b1ac/requests_oauthlib-1.2.0-py2.py3-none-any.whl\n",
      "Collecting python3-openid (from velruse>=1.0.3->apex)\n",
      "  Using cached https://files.pythonhosted.org/packages/bd/de/52c5699f52dcee3037db587196dcaf63ffedf5fbeba3183afe9b21a3a89f/python3_openid-3.1.0-py3-none-any.whl\n",
      "Collecting anykeystore (from velruse>=1.0.3->apex)\n",
      "Requirement already satisfied: pbkdf2 in /home/zbf/anaconda3/lib/python3.7/site-packages (from cryptacular->apex) (1.3)\n",
      "Requirement already satisfied: SQLAlchemy>=0.5.1 in /home/zbf/anaconda3/lib/python3.7/site-packages (from zope.sqlalchemy->apex) (1.3.1)\n",
      "Collecting PasteDeploy>=2.0 (from plaster-pastedeploy->pyramid>1.1.2->apex)\n",
      "  Using cached https://files.pythonhosted.org/packages/67/0c/faa9971b2e5e048b3b30008d04c72e4d5f63b42f48937c169acce2c5e70a/PasteDeploy-2.0.1-py2.py3-none-any.whl\n",
      "Collecting oauthlib>=3.0.0 (from requests-oauthlib->velruse>=1.0.3->apex)\n",
      "  Using cached https://files.pythonhosted.org/packages/16/95/699466b05b72b94a41f662dc9edf87fda4289e3602ecd42d27fcaddf7b56/oauthlib-3.0.1-py2.py3-none-any.whl\n",
      "Requirement already satisfied: defusedxml in /home/zbf/anaconda3/lib/python3.7/site-packages (from python3-openid->velruse>=1.0.3->apex) (0.5.0)\n",
      "Building wheels for collected packages: cryptacular\n",
      "  Building wheel for cryptacular (setup.py) ... \u001b[?25lerror\n",
      "  Complete output from command /home/zbf/anaconda3/bin/python -u -c \"import setuptools, tokenize;__file__='/tmp/pip-install-b_aja_yl/cryptacular/setup.py';f=getattr(tokenize, 'open', open)(__file__);code=f.read().replace('\\r\\n', '\\n');f.close();exec(compile(code, __file__, 'exec'))\" bdist_wheel -d /tmp/pip-wheel-egd5ogoz --python-tag cp37:\n",
      "  running bdist_wheel\n",
      "  running build\n",
      "  running build_py\n",
      "  creating build\n",
      "  creating build/lib.linux-x86_64-3.7\n",
      "  creating build/lib.linux-x86_64-3.7/cryptacular\n",
      "  copying cryptacular/__init__.py -> build/lib.linux-x86_64-3.7/cryptacular\n",
      "  creating build/lib.linux-x86_64-3.7/cryptacular/bcrypt\n",
      "  copying cryptacular/bcrypt/__init__.py -> build/lib.linux-x86_64-3.7/cryptacular/bcrypt\n",
      "  copying cryptacular/bcrypt/test_bcrypt.py -> build/lib.linux-x86_64-3.7/cryptacular/bcrypt\n",
      "  creating build/lib.linux-x86_64-3.7/cryptacular/crypt\n",
      "  copying cryptacular/crypt/__init__.py -> build/lib.linux-x86_64-3.7/cryptacular/crypt\n",
      "  copying cryptacular/crypt/test_crypt.py -> build/lib.linux-x86_64-3.7/cryptacular/crypt\n",
      "  creating build/lib.linux-x86_64-3.7/cryptacular/pbkdf2\n",
      "  copying cryptacular/pbkdf2/test_pbkdf2.py -> build/lib.linux-x86_64-3.7/cryptacular/pbkdf2\n",
      "  copying cryptacular/pbkdf2/__init__.py -> build/lib.linux-x86_64-3.7/cryptacular/pbkdf2\n",
      "  creating build/lib.linux-x86_64-3.7/cryptacular/core\n",
      "  copying cryptacular/core/__init__.py -> build/lib.linux-x86_64-3.7/cryptacular/core\n",
      "  copying cryptacular/core/test_core.py -> build/lib.linux-x86_64-3.7/cryptacular/core\n",
      "  running egg_info\n",
      "  writing cryptacular.egg-info/PKG-INFO\n",
      "  writing dependency_links to cryptacular.egg-info/dependency_links.txt\n",
      "  writing namespace_packages to cryptacular.egg-info/namespace_packages.txt\n",
      "  writing requirements to cryptacular.egg-info/requires.txt\n",
      "  writing top-level names to cryptacular.egg-info/top_level.txt\n",
      "  reading manifest file 'cryptacular.egg-info/SOURCES.txt'\n",
      "  reading manifest template 'MANIFEST.in'\n",
      "  writing manifest file 'cryptacular.egg-info/SOURCES.txt'\n",
      "  copying cryptacular/bcrypt/_bcrypt.c -> build/lib.linux-x86_64-3.7/cryptacular/bcrypt\n",
      "  running build_ext\n",
      "  building 'cryptacular.bcrypt._bcrypt' extension\n",
      "  creating build/temp.linux-x86_64-3.7\n",
      "  creating build/temp.linux-x86_64-3.7/crypt_blowfish-1.2\n",
      "  creating build/temp.linux-x86_64-3.7/cryptacular\n",
      "  creating build/temp.linux-x86_64-3.7/cryptacular/bcrypt\n",
      "  gcc -pthread -B /home/zbf/anaconda3/compiler_compat -Wl,--sysroot=/ -Wsign-compare -DNDEBUG -g -fwrapv -O3 -Wall -Wstrict-prototypes -fPIC -DNO_BF_ASM -Icrypt_blowfish-1.2/ -I/home/zbf/anaconda3/include/python3.7m -c crypt_blowfish-1.2/crypt_blowfish.c -o build/temp.linux-x86_64-3.7/crypt_blowfish-1.2/crypt_blowfish.o\n",
      "  gcc -pthread -B /home/zbf/anaconda3/compiler_compat -Wl,--sysroot=/ -Wsign-compare -DNDEBUG -g -fwrapv -O3 -Wall -Wstrict-prototypes -fPIC -DNO_BF_ASM -Icrypt_blowfish-1.2/ -I/home/zbf/anaconda3/include/python3.7m -c crypt_blowfish-1.2/crypt_gensalt.c -o build/temp.linux-x86_64-3.7/crypt_blowfish-1.2/crypt_gensalt.o\n",
      "  gcc -pthread -B /home/zbf/anaconda3/compiler_compat -Wl,--sysroot=/ -Wsign-compare -DNDEBUG -g -fwrapv -O3 -Wall -Wstrict-prototypes -fPIC -DNO_BF_ASM -Icrypt_blowfish-1.2/ -I/home/zbf/anaconda3/include/python3.7m -c crypt_blowfish-1.2/wrapper.c -o build/temp.linux-x86_64-3.7/crypt_blowfish-1.2/wrapper.o\n",
      "  gcc -pthread -B /home/zbf/anaconda3/compiler_compat -Wl,--sysroot=/ -Wsign-compare -DNDEBUG -g -fwrapv -O3 -Wall -Wstrict-prototypes -fPIC -DNO_BF_ASM -Icrypt_blowfish-1.2/ -I/home/zbf/anaconda3/include/python3.7m -c cryptacular/bcrypt/_bcrypt.c -o build/temp.linux-x86_64-3.7/cryptacular/bcrypt/_bcrypt.o\n",
      "  In file included from /home/zbf/anaconda3/include/python3.7m/Python.h:44:0,\n",
      "                   from cryptacular/bcrypt/_bcrypt.c:26:\n",
      "  crypt_blowfish-1.2/crypt.h:17:10: fatal error: gnu-crypt.h: No such file or directory\n",
      "   #include <gnu-crypt.h>\n",
      "            ^~~~~~~~~~~~~\n",
      "  compilation terminated.\n"
     ]
    },
    {
     "name": "stdout",
     "output_type": "stream",
     "text": [
      "  error: command 'gcc' failed with exit status 1\n",
      "  \n",
      "  ----------------------------------------\n",
      "\u001b[31m  Failed building wheel for cryptacular\u001b[0m\n",
      "\u001b[?25h  Running setup.py clean for cryptacular\n",
      "Failed to build cryptacular\n",
      "Installing collected packages: zope.interface, transaction, repoze.sendmail, PasteDeploy, plaster, plaster-pastedeploy, venusian, webob, hupper, translationstring, zope.deprecation, pyramid, pyramid-mailer, wtforms, oauthlib, requests-oauthlib, python3-openid, anykeystore, velruse, wtforms-recaptcha, cryptacular, zope.sqlalchemy, apex\n",
      "  Running setup.py install for cryptacular ... \u001b[?25lerror\n",
      "    Complete output from command /home/zbf/anaconda3/bin/python -u -c \"import setuptools, tokenize;__file__='/tmp/pip-install-b_aja_yl/cryptacular/setup.py';f=getattr(tokenize, 'open', open)(__file__);code=f.read().replace('\\r\\n', '\\n');f.close();exec(compile(code, __file__, 'exec'))\" install --record /tmp/pip-record-hszxpybb/install-record.txt --single-version-externally-managed --compile:\n",
      "    running install\n",
      "    running build\n",
      "    running build_py\n",
      "    creating build\n",
      "    creating build/lib.linux-x86_64-3.7\n",
      "    creating build/lib.linux-x86_64-3.7/cryptacular\n",
      "    copying cryptacular/__init__.py -> build/lib.linux-x86_64-3.7/cryptacular\n",
      "    creating build/lib.linux-x86_64-3.7/cryptacular/bcrypt\n",
      "    copying cryptacular/bcrypt/__init__.py -> build/lib.linux-x86_64-3.7/cryptacular/bcrypt\n",
      "    copying cryptacular/bcrypt/test_bcrypt.py -> build/lib.linux-x86_64-3.7/cryptacular/bcrypt\n",
      "    creating build/lib.linux-x86_64-3.7/cryptacular/crypt\n",
      "    copying cryptacular/crypt/__init__.py -> build/lib.linux-x86_64-3.7/cryptacular/crypt\n",
      "    copying cryptacular/crypt/test_crypt.py -> build/lib.linux-x86_64-3.7/cryptacular/crypt\n",
      "    creating build/lib.linux-x86_64-3.7/cryptacular/pbkdf2\n",
      "    copying cryptacular/pbkdf2/test_pbkdf2.py -> build/lib.linux-x86_64-3.7/cryptacular/pbkdf2\n",
      "    copying cryptacular/pbkdf2/__init__.py -> build/lib.linux-x86_64-3.7/cryptacular/pbkdf2\n",
      "    creating build/lib.linux-x86_64-3.7/cryptacular/core\n",
      "    copying cryptacular/core/__init__.py -> build/lib.linux-x86_64-3.7/cryptacular/core\n",
      "    copying cryptacular/core/test_core.py -> build/lib.linux-x86_64-3.7/cryptacular/core\n",
      "    running egg_info\n",
      "    writing cryptacular.egg-info/PKG-INFO\n",
      "    writing dependency_links to cryptacular.egg-info/dependency_links.txt\n",
      "    writing namespace_packages to cryptacular.egg-info/namespace_packages.txt\n",
      "    writing requirements to cryptacular.egg-info/requires.txt\n",
      "    writing top-level names to cryptacular.egg-info/top_level.txt\n",
      "    reading manifest file 'cryptacular.egg-info/SOURCES.txt'\n",
      "    reading manifest template 'MANIFEST.in'\n",
      "    writing manifest file 'cryptacular.egg-info/SOURCES.txt'\n",
      "    copying cryptacular/bcrypt/_bcrypt.c -> build/lib.linux-x86_64-3.7/cryptacular/bcrypt\n",
      "    running build_ext\n",
      "    building 'cryptacular.bcrypt._bcrypt' extension\n",
      "    creating build/temp.linux-x86_64-3.7\n",
      "    creating build/temp.linux-x86_64-3.7/crypt_blowfish-1.2\n",
      "    creating build/temp.linux-x86_64-3.7/cryptacular\n",
      "    creating build/temp.linux-x86_64-3.7/cryptacular/bcrypt\n",
      "    gcc -pthread -B /home/zbf/anaconda3/compiler_compat -Wl,--sysroot=/ -Wsign-compare -DNDEBUG -g -fwrapv -O3 -Wall -Wstrict-prototypes -fPIC -DNO_BF_ASM -Icrypt_blowfish-1.2/ -I/home/zbf/anaconda3/include/python3.7m -c crypt_blowfish-1.2/crypt_blowfish.c -o build/temp.linux-x86_64-3.7/crypt_blowfish-1.2/crypt_blowfish.o\n",
      "    gcc -pthread -B /home/zbf/anaconda3/compiler_compat -Wl,--sysroot=/ -Wsign-compare -DNDEBUG -g -fwrapv -O3 -Wall -Wstrict-prototypes -fPIC -DNO_BF_ASM -Icrypt_blowfish-1.2/ -I/home/zbf/anaconda3/include/python3.7m -c crypt_blowfish-1.2/crypt_gensalt.c -o build/temp.linux-x86_64-3.7/crypt_blowfish-1.2/crypt_gensalt.o\n",
      "    gcc -pthread -B /home/zbf/anaconda3/compiler_compat -Wl,--sysroot=/ -Wsign-compare -DNDEBUG -g -fwrapv -O3 -Wall -Wstrict-prototypes -fPIC -DNO_BF_ASM -Icrypt_blowfish-1.2/ -I/home/zbf/anaconda3/include/python3.7m -c crypt_blowfish-1.2/wrapper.c -o build/temp.linux-x86_64-3.7/crypt_blowfish-1.2/wrapper.o\n",
      "    gcc -pthread -B /home/zbf/anaconda3/compiler_compat -Wl,--sysroot=/ -Wsign-compare -DNDEBUG -g -fwrapv -O3 -Wall -Wstrict-prototypes -fPIC -DNO_BF_ASM -Icrypt_blowfish-1.2/ -I/home/zbf/anaconda3/include/python3.7m -c cryptacular/bcrypt/_bcrypt.c -o build/temp.linux-x86_64-3.7/cryptacular/bcrypt/_bcrypt.o\n",
      "    In file included from /home/zbf/anaconda3/include/python3.7m/Python.h:44:0,\n",
      "                     from cryptacular/bcrypt/_bcrypt.c:26:\n",
      "    crypt_blowfish-1.2/crypt.h:17:10: fatal error: gnu-crypt.h: No such file or directory\n",
      "     #include <gnu-crypt.h>\n",
      "              ^~~~~~~~~~~~~\n",
      "    compilation terminated.\n",
      "    error: command 'gcc' failed with exit status 1\n",
      "    \n",
      "    ----------------------------------------\n",
      "\u001b[31mCommand \"/home/zbf/anaconda3/bin/python -u -c \"import setuptools, tokenize;__file__='/tmp/pip-install-b_aja_yl/cryptacular/setup.py';f=getattr(tokenize, 'open', open)(__file__);code=f.read().replace('\\r\\n', '\\n');f.close();exec(compile(code, __file__, 'exec'))\" install --record /tmp/pip-record-hszxpybb/install-record.txt --single-version-externally-managed --compile\" failed with error code 1 in /tmp/pip-install-b_aja_yl/cryptacular/\u001b[0m\n",
      "\u001b[?25h"
     ]
    },
    {
     "ename": "ModuleNotFoundError",
     "evalue": "No module named 'apex'",
     "output_type": "error",
     "traceback": [
      "\u001b[0;31m---------------------------------------------------------------------------\u001b[0m",
      "\u001b[0;31mModuleNotFoundError\u001b[0m                       Traceback (most recent call last)",
      "\u001b[0;32m<ipython-input-10-c856eeda9b45>\u001b[0m in \u001b[0;36m<module>\u001b[0;34m\u001b[0m\n\u001b[1;32m      6\u001b[0m \u001b[0mget_ipython\u001b[0m\u001b[0;34m(\u001b[0m\u001b[0;34m)\u001b[0m\u001b[0;34m.\u001b[0m\u001b[0msystem\u001b[0m\u001b[0;34m(\u001b[0m\u001b[0;34m'pip install apex'\u001b[0m\u001b[0;34m)\u001b[0m\u001b[0;34m\u001b[0m\u001b[0;34m\u001b[0m\u001b[0m\n\u001b[1;32m      7\u001b[0m \u001b[0;32mfrom\u001b[0m \u001b[0mmaskrcnn_benchmark\u001b[0m\u001b[0;34m.\u001b[0m\u001b[0mconfig\u001b[0m \u001b[0;32mimport\u001b[0m \u001b[0mcfg\u001b[0m\u001b[0;34m\u001b[0m\u001b[0;34m\u001b[0m\u001b[0m\n\u001b[0;32m----> 8\u001b[0;31m \u001b[0;32mfrom\u001b[0m \u001b[0mpredictor\u001b[0m \u001b[0;32mimport\u001b[0m \u001b[0mCOCODemo\u001b[0m\u001b[0;34m\u001b[0m\u001b[0;34m\u001b[0m\u001b[0m\n\u001b[0m",
      "\u001b[0;32m~/ws/maskrcnn-benchmark/demo/predictor.py\u001b[0m in \u001b[0;36m<module>\u001b[0;34m\u001b[0m\n\u001b[1;32m      4\u001b[0m \u001b[0;32mfrom\u001b[0m \u001b[0mtorchvision\u001b[0m \u001b[0;32mimport\u001b[0m \u001b[0mtransforms\u001b[0m \u001b[0;32mas\u001b[0m \u001b[0mT\u001b[0m\u001b[0;34m\u001b[0m\u001b[0;34m\u001b[0m\u001b[0m\n\u001b[1;32m      5\u001b[0m \u001b[0;34m\u001b[0m\u001b[0m\n\u001b[0;32m----> 6\u001b[0;31m \u001b[0;32mfrom\u001b[0m \u001b[0mmaskrcnn_benchmark\u001b[0m\u001b[0;34m.\u001b[0m\u001b[0mmodeling\u001b[0m\u001b[0;34m.\u001b[0m\u001b[0mdetector\u001b[0m \u001b[0;32mimport\u001b[0m \u001b[0mbuild_detection_model\u001b[0m\u001b[0;34m\u001b[0m\u001b[0;34m\u001b[0m\u001b[0m\n\u001b[0m\u001b[1;32m      7\u001b[0m \u001b[0;32mfrom\u001b[0m \u001b[0mmaskrcnn_benchmark\u001b[0m\u001b[0;34m.\u001b[0m\u001b[0mutils\u001b[0m\u001b[0;34m.\u001b[0m\u001b[0mcheckpoint\u001b[0m \u001b[0;32mimport\u001b[0m \u001b[0mDetectronCheckpointer\u001b[0m\u001b[0;34m\u001b[0m\u001b[0;34m\u001b[0m\u001b[0m\n\u001b[1;32m      8\u001b[0m \u001b[0;32mfrom\u001b[0m \u001b[0mmaskrcnn_benchmark\u001b[0m\u001b[0;34m.\u001b[0m\u001b[0mstructures\u001b[0m\u001b[0;34m.\u001b[0m\u001b[0mimage_list\u001b[0m \u001b[0;32mimport\u001b[0m \u001b[0mto_image_list\u001b[0m\u001b[0;34m\u001b[0m\u001b[0;34m\u001b[0m\u001b[0m\n",
      "\u001b[0;32m~/ws/maskrcnn-benchmark/maskrcnn_benchmark/modeling/detector/__init__.py\u001b[0m in \u001b[0;36m<module>\u001b[0;34m\u001b[0m\n\u001b[1;32m      1\u001b[0m \u001b[0;31m# Copyright (c) Facebook, Inc. and its affiliates. All Rights Reserved.\u001b[0m\u001b[0;34m\u001b[0m\u001b[0;34m\u001b[0m\u001b[0;34m\u001b[0m\u001b[0m\n\u001b[0;32m----> 2\u001b[0;31m \u001b[0;32mfrom\u001b[0m \u001b[0;34m.\u001b[0m\u001b[0mdetectors\u001b[0m \u001b[0;32mimport\u001b[0m \u001b[0mbuild_detection_model\u001b[0m\u001b[0;34m\u001b[0m\u001b[0;34m\u001b[0m\u001b[0m\n\u001b[0m",
      "\u001b[0;32m~/ws/maskrcnn-benchmark/maskrcnn_benchmark/modeling/detector/detectors.py\u001b[0m in \u001b[0;36m<module>\u001b[0;34m\u001b[0m\n\u001b[1;32m      1\u001b[0m \u001b[0;31m# Copyright (c) Facebook, Inc. and its affiliates. All Rights Reserved.\u001b[0m\u001b[0;34m\u001b[0m\u001b[0;34m\u001b[0m\u001b[0;34m\u001b[0m\u001b[0m\n\u001b[0;32m----> 2\u001b[0;31m \u001b[0;32mfrom\u001b[0m \u001b[0;34m.\u001b[0m\u001b[0mgeneralized_rcnn\u001b[0m \u001b[0;32mimport\u001b[0m \u001b[0mGeneralizedRCNN\u001b[0m\u001b[0;34m\u001b[0m\u001b[0;34m\u001b[0m\u001b[0m\n\u001b[0m\u001b[1;32m      3\u001b[0m \u001b[0;34m\u001b[0m\u001b[0m\n\u001b[1;32m      4\u001b[0m \u001b[0;34m\u001b[0m\u001b[0m\n\u001b[1;32m      5\u001b[0m \u001b[0m_DETECTION_META_ARCHITECTURES\u001b[0m \u001b[0;34m=\u001b[0m \u001b[0;34m{\u001b[0m\u001b[0;34m\"GeneralizedRCNN\"\u001b[0m\u001b[0;34m:\u001b[0m \u001b[0mGeneralizedRCNN\u001b[0m\u001b[0;34m}\u001b[0m\u001b[0;34m\u001b[0m\u001b[0;34m\u001b[0m\u001b[0m\n",
      "\u001b[0;32m~/ws/maskrcnn-benchmark/maskrcnn_benchmark/modeling/detector/generalized_rcnn.py\u001b[0m in \u001b[0;36m<module>\u001b[0;34m\u001b[0m\n\u001b[1;32m      9\u001b[0m \u001b[0;32mfrom\u001b[0m \u001b[0mmaskrcnn_benchmark\u001b[0m\u001b[0;34m.\u001b[0m\u001b[0mstructures\u001b[0m\u001b[0;34m.\u001b[0m\u001b[0mimage_list\u001b[0m \u001b[0;32mimport\u001b[0m \u001b[0mto_image_list\u001b[0m\u001b[0;34m\u001b[0m\u001b[0;34m\u001b[0m\u001b[0m\n\u001b[1;32m     10\u001b[0m \u001b[0;34m\u001b[0m\u001b[0m\n\u001b[0;32m---> 11\u001b[0;31m \u001b[0;32mfrom\u001b[0m \u001b[0;34m.\u001b[0m\u001b[0;34m.\u001b[0m\u001b[0mbackbone\u001b[0m \u001b[0;32mimport\u001b[0m \u001b[0mbuild_backbone\u001b[0m\u001b[0;34m\u001b[0m\u001b[0;34m\u001b[0m\u001b[0m\n\u001b[0m\u001b[1;32m     12\u001b[0m \u001b[0;32mfrom\u001b[0m \u001b[0;34m.\u001b[0m\u001b[0;34m.\u001b[0m\u001b[0mrpn\u001b[0m\u001b[0;34m.\u001b[0m\u001b[0mrpn\u001b[0m \u001b[0;32mimport\u001b[0m \u001b[0mbuild_rpn\u001b[0m\u001b[0;34m\u001b[0m\u001b[0;34m\u001b[0m\u001b[0m\n\u001b[1;32m     13\u001b[0m \u001b[0;32mfrom\u001b[0m \u001b[0;34m.\u001b[0m\u001b[0;34m.\u001b[0m\u001b[0mroi_heads\u001b[0m\u001b[0;34m.\u001b[0m\u001b[0mroi_heads\u001b[0m \u001b[0;32mimport\u001b[0m \u001b[0mbuild_roi_heads\u001b[0m\u001b[0;34m\u001b[0m\u001b[0;34m\u001b[0m\u001b[0m\n",
      "\u001b[0;32m~/ws/maskrcnn-benchmark/maskrcnn_benchmark/modeling/backbone/__init__.py\u001b[0m in \u001b[0;36m<module>\u001b[0;34m\u001b[0m\n\u001b[1;32m      1\u001b[0m \u001b[0;31m# Copyright (c) Facebook, Inc. and its affiliates. All Rights Reserved.\u001b[0m\u001b[0;34m\u001b[0m\u001b[0;34m\u001b[0m\u001b[0;34m\u001b[0m\u001b[0m\n\u001b[0;32m----> 2\u001b[0;31m \u001b[0;32mfrom\u001b[0m \u001b[0;34m.\u001b[0m\u001b[0mbackbone\u001b[0m \u001b[0;32mimport\u001b[0m \u001b[0mbuild_backbone\u001b[0m\u001b[0;34m\u001b[0m\u001b[0;34m\u001b[0m\u001b[0m\n\u001b[0m\u001b[1;32m      3\u001b[0m \u001b[0;32mfrom\u001b[0m \u001b[0;34m.\u001b[0m \u001b[0;32mimport\u001b[0m \u001b[0mfbnet\u001b[0m\u001b[0;34m\u001b[0m\u001b[0;34m\u001b[0m\u001b[0m\n",
      "\u001b[0;32m~/ws/maskrcnn-benchmark/maskrcnn_benchmark/modeling/backbone/backbone.py\u001b[0m in \u001b[0;36m<module>\u001b[0;34m\u001b[0m\n\u001b[1;32m      5\u001b[0m \u001b[0;34m\u001b[0m\u001b[0m\n\u001b[1;32m      6\u001b[0m \u001b[0;32mfrom\u001b[0m \u001b[0mmaskrcnn_benchmark\u001b[0m\u001b[0;34m.\u001b[0m\u001b[0mmodeling\u001b[0m \u001b[0;32mimport\u001b[0m \u001b[0mregistry\u001b[0m\u001b[0;34m\u001b[0m\u001b[0;34m\u001b[0m\u001b[0m\n\u001b[0;32m----> 7\u001b[0;31m \u001b[0;32mfrom\u001b[0m \u001b[0mmaskrcnn_benchmark\u001b[0m\u001b[0;34m.\u001b[0m\u001b[0mmodeling\u001b[0m\u001b[0;34m.\u001b[0m\u001b[0mmake_layers\u001b[0m \u001b[0;32mimport\u001b[0m \u001b[0mconv_with_kaiming_uniform\u001b[0m\u001b[0;34m\u001b[0m\u001b[0;34m\u001b[0m\u001b[0m\n\u001b[0m\u001b[1;32m      8\u001b[0m \u001b[0;32mfrom\u001b[0m \u001b[0;34m.\u001b[0m \u001b[0;32mimport\u001b[0m \u001b[0mfpn\u001b[0m \u001b[0;32mas\u001b[0m \u001b[0mfpn_module\u001b[0m\u001b[0;34m\u001b[0m\u001b[0;34m\u001b[0m\u001b[0m\n\u001b[1;32m      9\u001b[0m \u001b[0;32mfrom\u001b[0m \u001b[0;34m.\u001b[0m \u001b[0;32mimport\u001b[0m \u001b[0mresnet\u001b[0m\u001b[0;34m\u001b[0m\u001b[0;34m\u001b[0m\u001b[0m\n",
      "\u001b[0;32m~/ws/maskrcnn-benchmark/maskrcnn_benchmark/modeling/make_layers.py\u001b[0m in \u001b[0;36m<module>\u001b[0;34m\u001b[0m\n\u001b[1;32m      8\u001b[0m \u001b[0;32mfrom\u001b[0m \u001b[0mtorch\u001b[0m\u001b[0;34m.\u001b[0m\u001b[0mnn\u001b[0m \u001b[0;32mimport\u001b[0m \u001b[0mfunctional\u001b[0m \u001b[0;32mas\u001b[0m \u001b[0mF\u001b[0m\u001b[0;34m\u001b[0m\u001b[0;34m\u001b[0m\u001b[0m\n\u001b[1;32m      9\u001b[0m \u001b[0;32mfrom\u001b[0m \u001b[0mmaskrcnn_benchmark\u001b[0m\u001b[0;34m.\u001b[0m\u001b[0mconfig\u001b[0m \u001b[0;32mimport\u001b[0m \u001b[0mcfg\u001b[0m\u001b[0;34m\u001b[0m\u001b[0;34m\u001b[0m\u001b[0m\n\u001b[0;32m---> 10\u001b[0;31m \u001b[0;32mfrom\u001b[0m \u001b[0mmaskrcnn_benchmark\u001b[0m\u001b[0;34m.\u001b[0m\u001b[0mlayers\u001b[0m \u001b[0;32mimport\u001b[0m \u001b[0mConv2d\u001b[0m\u001b[0;34m\u001b[0m\u001b[0;34m\u001b[0m\u001b[0m\n\u001b[0m\u001b[1;32m     11\u001b[0m \u001b[0;32mfrom\u001b[0m \u001b[0mmaskrcnn_benchmark\u001b[0m\u001b[0;34m.\u001b[0m\u001b[0mmodeling\u001b[0m\u001b[0;34m.\u001b[0m\u001b[0mpoolers\u001b[0m \u001b[0;32mimport\u001b[0m \u001b[0mPooler\u001b[0m\u001b[0;34m\u001b[0m\u001b[0;34m\u001b[0m\u001b[0m\n\u001b[1;32m     12\u001b[0m \u001b[0;34m\u001b[0m\u001b[0m\n",
      "\u001b[0;32m~/ws/maskrcnn-benchmark/maskrcnn_benchmark/layers/__init__.py\u001b[0m in \u001b[0;36m<module>\u001b[0;34m\u001b[0m\n\u001b[1;32m      8\u001b[0m \u001b[0;32mfrom\u001b[0m \u001b[0;34m.\u001b[0m\u001b[0mmisc\u001b[0m \u001b[0;32mimport\u001b[0m \u001b[0mBatchNorm2d\u001b[0m\u001b[0;34m\u001b[0m\u001b[0;34m\u001b[0m\u001b[0m\n\u001b[1;32m      9\u001b[0m \u001b[0;32mfrom\u001b[0m \u001b[0;34m.\u001b[0m\u001b[0mmisc\u001b[0m \u001b[0;32mimport\u001b[0m \u001b[0minterpolate\u001b[0m\u001b[0;34m\u001b[0m\u001b[0;34m\u001b[0m\u001b[0m\n\u001b[0;32m---> 10\u001b[0;31m \u001b[0;32mfrom\u001b[0m \u001b[0;34m.\u001b[0m\u001b[0mnms\u001b[0m \u001b[0;32mimport\u001b[0m \u001b[0mnms\u001b[0m\u001b[0;34m\u001b[0m\u001b[0;34m\u001b[0m\u001b[0m\n\u001b[0m\u001b[1;32m     11\u001b[0m \u001b[0;32mfrom\u001b[0m \u001b[0;34m.\u001b[0m\u001b[0mroi_align\u001b[0m \u001b[0;32mimport\u001b[0m \u001b[0mROIAlign\u001b[0m\u001b[0;34m\u001b[0m\u001b[0;34m\u001b[0m\u001b[0m\n\u001b[1;32m     12\u001b[0m \u001b[0;32mfrom\u001b[0m \u001b[0;34m.\u001b[0m\u001b[0mroi_align\u001b[0m \u001b[0;32mimport\u001b[0m \u001b[0mroi_align\u001b[0m\u001b[0;34m\u001b[0m\u001b[0;34m\u001b[0m\u001b[0m\n",
      "\u001b[0;32m~/ws/maskrcnn-benchmark/maskrcnn_benchmark/layers/nms.py\u001b[0m in \u001b[0;36m<module>\u001b[0;34m\u001b[0m\n\u001b[1;32m      3\u001b[0m \u001b[0;32mfrom\u001b[0m \u001b[0mmaskrcnn_benchmark\u001b[0m \u001b[0;32mimport\u001b[0m \u001b[0m_C\u001b[0m\u001b[0;34m\u001b[0m\u001b[0;34m\u001b[0m\u001b[0m\n\u001b[1;32m      4\u001b[0m \u001b[0;34m\u001b[0m\u001b[0m\n\u001b[0;32m----> 5\u001b[0;31m \u001b[0;32mfrom\u001b[0m \u001b[0mapex\u001b[0m \u001b[0;32mimport\u001b[0m \u001b[0mamp\u001b[0m\u001b[0;34m\u001b[0m\u001b[0;34m\u001b[0m\u001b[0m\n\u001b[0m\u001b[1;32m      6\u001b[0m \u001b[0;34m\u001b[0m\u001b[0m\n\u001b[1;32m      7\u001b[0m \u001b[0;31m# Only valid with fp32 inputs - give AMP the hint\u001b[0m\u001b[0;34m\u001b[0m\u001b[0;34m\u001b[0m\u001b[0;34m\u001b[0m\u001b[0m\n",
      "\u001b[0;31mModuleNotFoundError\u001b[0m: No module named 'apex'"
     ]
    }
   ],
   "source": [
    "import sys\n",
    "sys.path.append('..')\n",
    "!pip install yacs\n",
    "!pip install opencv-python\n",
    "!pip install torchvision==0.2.2.post3\n",
    "!pip install apex\n",
    "from maskrcnn_benchmark.config import cfg\n",
    "from predictor import COCODemo"
   ]
  },
  {
   "cell_type": "markdown",
   "metadata": {},
   "source": [
    "We provide a helper class `COCODemo`, which loads a model from the config file, and performs pre-processing, model prediction and post-processing for us.\n",
    "\n",
    "We can configure several model options by overriding the config options.\n",
    "In here, we make the model run on the CPU"
   ]
  },
  {
   "cell_type": "code",
   "execution_count": null,
   "metadata": {},
   "outputs": [],
   "source": [
    "config_file = \"../configs/caffe2/e2e_mask_rcnn_R_50_FPN_1x_caffe2.yaml\"\n",
    "\n",
    "# update the config options with the config file\n",
    "cfg.merge_from_file(config_file)\n",
    "# manual override some options\n",
    "cfg.merge_from_list([\"MODEL.DEVICE\", \"cpu\"])"
   ]
  },
  {
   "cell_type": "markdown",
   "metadata": {},
   "source": [
    "Now we create the `COCODemo` object. It contains a few extra options for conveniency, such as the confidence threshold for detections to be shown."
   ]
  },
  {
   "cell_type": "code",
   "execution_count": null,
   "metadata": {},
   "outputs": [],
   "source": [
    "coco_demo = COCODemo(\n",
    "    cfg,\n",
    "    min_image_size=800,\n",
    "    confidence_threshold=0.7,\n",
    ")"
   ]
  },
  {
   "cell_type": "markdown",
   "metadata": {},
   "source": [
    "Let's define a few helper functions for loading images from a URL"
   ]
  },
  {
   "cell_type": "code",
   "execution_count": null,
   "metadata": {},
   "outputs": [],
   "source": [
    "def load(url):\n",
    "    \"\"\"\n",
    "    Given an url of an image, downloads the image and\n",
    "    returns a PIL image\n",
    "    \"\"\"\n",
    "    response = requests.get(url)\n",
    "    pil_image = Image.open(BytesIO(response.content)).convert(\"RGB\")\n",
    "    # convert to BGR format\n",
    "    image = np.array(pil_image)[:, :, [2, 1, 0]]\n",
    "    return image\n",
    "\n",
    "def imshow(img):\n",
    "    plt.imshow(img[:, :, [2, 1, 0]])\n",
    "    plt.axis(\"off\")"
   ]
  },
  {
   "cell_type": "markdown",
   "metadata": {},
   "source": [
    "Let's now load an image from the COCO dataset. It's reference is in the comment"
   ]
  },
  {
   "cell_type": "code",
   "execution_count": null,
   "metadata": {},
   "outputs": [],
   "source": [
    "# from http://cocodataset.org/#explore?id=345434\n",
    "image = load(\"http://farm3.staticflickr.com/2469/3915380994_2e611b1779_z.jpg\")\n",
    "imshow(image)"
   ]
  },
  {
   "cell_type": "markdown",
   "metadata": {},
   "source": [
    "### Computing the predictions\n",
    "\n",
    "We provide a `run_on_opencv_image` function, which takes an image as it was loaded by OpenCV (in `BGR` format), and computes the predictions on them, returning an image with the predictions overlayed on the image."
   ]
  },
  {
   "cell_type": "code",
   "execution_count": null,
   "metadata": {},
   "outputs": [],
   "source": [
    "# compute predictions\n",
    "predictions = coco_demo.run_on_opencv_image(image)\n",
    "imshow(predictions)"
   ]
  },
  {
   "cell_type": "markdown",
   "metadata": {},
   "source": [
    "## Keypoints Demo"
   ]
  },
  {
   "cell_type": "code",
   "execution_count": null,
   "metadata": {},
   "outputs": [],
   "source": [
    "# set up demo for keypoints\n",
    "config_file = \"../configs/caffe2/e2e_keypoint_rcnn_R_50_FPN_1x_caffe2.yaml\"\n",
    "cfg.merge_from_file(config_file)\n",
    "cfg.merge_from_list([\"MODEL.DEVICE\", \"cpu\"])\n",
    "cfg.merge_from_list([\"MODEL.MASK_ON\", False])\n",
    "\n",
    "coco_demo = COCODemo(\n",
    "    cfg,\n",
    "    min_image_size=800,\n",
    "    confidence_threshold=0.7,\n",
    ")"
   ]
  },
  {
   "cell_type": "code",
   "execution_count": null,
   "metadata": {},
   "outputs": [],
   "source": [
    "# run demo\n",
    "image = load(\"http://farm9.staticflickr.com/8419/8710147224_ff637cc4fc_z.jpg\")\n",
    "predictions = coco_demo.run_on_opencv_image(image)\n",
    "imshow(predictions)"
   ]
  }
 ],
 "metadata": {
  "kernelspec": {
   "display_name": "Python 3",
   "language": "python",
   "name": "python3"
  },
  "language_info": {
   "codemirror_mode": {
    "name": "ipython",
    "version": 3
   },
   "file_extension": ".py",
   "mimetype": "text/x-python",
   "name": "python",
   "nbconvert_exporter": "python",
   "pygments_lexer": "ipython3",
   "version": "3.7.3"
  }
 },
 "nbformat": 4,
 "nbformat_minor": 2
}
